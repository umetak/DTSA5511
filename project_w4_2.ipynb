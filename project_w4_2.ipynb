{
 "cells": [
  {
   "cell_type": "code",
   "execution_count": 44,
   "id": "1e74d2b0",
   "metadata": {},
   "outputs": [],
   "source": [
    "import os, glob, shutil, re, string\n",
    "import numpy as np\n",
    "import matplotlib.pyplot as plt\n",
    "import pandas as pd\n",
    "import cv2\n",
    "import tensorflow as tf\n",
    "from tqdm import tqdm \n",
    "import matplotlib.pyplot as plt\n",
    "from sklearn.model_selection import train_test_split\n",
    "from sklearn.feature_extraction.text import CountVectorizer\n",
    "from collections import defaultdict, Counter\n",
    "from nltk.corpus import stopwords\n",
    "from nltk.util import ngrams\n",
    "from nltk.tokenize import word_tokenize\n",
    "from tensorflow.keras.preprocessing.text import Tokenizer\n",
    "from tensorflow.keras.preprocessing.sequence import pad_sequences\n",
    "from tensorflow.keras.models import Sequential\n",
    "from tensorflow.keras.layers import Embedding, LSTM, Dense, SpatialDropout1D, Bidirectional\n",
    "from tensorflow.keras.initializers import Constant\n",
    "from tensorflow.keras.optimizers import Adam\n",
    "import gensim"
   ]
  },
  {
   "cell_type": "code",
   "execution_count": 2,
   "id": "260f62f9",
   "metadata": {},
   "outputs": [
    {
     "data": {
      "text/plain": [
       "[PhysicalDevice(name='/physical_device:GPU:0', device_type='GPU')]"
      ]
     },
     "execution_count": 2,
     "metadata": {},
     "output_type": "execute_result"
    }
   ],
   "source": [
    "tf.config.experimental.list_physical_devices('GPU')"
   ]
  },
  {
   "cell_type": "code",
   "execution_count": 3,
   "id": "dfc4802f",
   "metadata": {},
   "outputs": [
    {
     "data": {
      "text/plain": [
       "'64_101'"
      ]
     },
     "execution_count": 3,
     "metadata": {},
     "output_type": "execute_result"
    }
   ],
   "source": [
    "tf.python.platform.build_info.build_info['cuda_version']"
   ]
  },
  {
   "cell_type": "code",
   "execution_count": 4,
   "id": "1c197011",
   "metadata": {},
   "outputs": [
    {
     "data": {
      "text/plain": [
       "'64_7'"
      ]
     },
     "execution_count": 4,
     "metadata": {},
     "output_type": "execute_result"
    }
   ],
   "source": [
    "tf.python.platform.build_info.build_info['cudnn_version']"
   ]
  },
  {
   "cell_type": "code",
   "execution_count": 5,
   "id": "5fc808a7",
   "metadata": {},
   "outputs": [
    {
     "data": {
      "text/plain": [
       "'2.3.0'"
      ]
     },
     "execution_count": 5,
     "metadata": {},
     "output_type": "execute_result"
    }
   ],
   "source": [
    "tf.__version__"
   ]
  },
  {
   "cell_type": "markdown",
   "id": "1aa8add8",
   "metadata": {},
   "source": [
    "## Description of the problem and data"
   ]
  },
  {
   "cell_type": "markdown",
   "id": "5532b0cd",
   "metadata": {},
   "source": [
    "Each sample in the train and test set has the following information:\n",
    "\n",
    "- The text of a tweet\n",
    "- A keyword from that tweet (although this may be blank!)\n",
    "- The location the tweet was sent from (may also be blank)"
   ]
  },
  {
   "cell_type": "markdown",
   "id": "561715df",
   "metadata": {},
   "source": [
    "### Files\n",
    "- train.csv - the training set\n",
    "- test.csv - the test set\n",
    "- sample_submission.csv - a sample submission file in the correct format"
   ]
  },
  {
   "cell_type": "markdown",
   "id": "ae528867",
   "metadata": {},
   "source": [
    "### Columns\n",
    "\n",
    "- id - a unique identifier for each tweet\n",
    "\n",
    "- text - the text of the tweet\n",
    "\n",
    "- location - the location the tweet was sent from (may be blank)\n",
    "\n",
    "- keyword - a particular keyword from the tweet (may be blank)\n",
    "\n",
    "- target - in train.csv only, this denotes whether a tweet is about a real disaster (1) or not (0)"
   ]
  },
  {
   "cell_type": "code",
   "execution_count": 6,
   "id": "c8b1cf8a",
   "metadata": {},
   "outputs": [
    {
     "data": {
      "text/html": [
       "<div>\n",
       "<style scoped>\n",
       "    .dataframe tbody tr th:only-of-type {\n",
       "        vertical-align: middle;\n",
       "    }\n",
       "\n",
       "    .dataframe tbody tr th {\n",
       "        vertical-align: top;\n",
       "    }\n",
       "\n",
       "    .dataframe thead th {\n",
       "        text-align: right;\n",
       "    }\n",
       "</style>\n",
       "<table border=\"1\" class=\"dataframe\">\n",
       "  <thead>\n",
       "    <tr style=\"text-align: right;\">\n",
       "      <th></th>\n",
       "      <th>id</th>\n",
       "      <th>keyword</th>\n",
       "      <th>location</th>\n",
       "      <th>text</th>\n",
       "      <th>target</th>\n",
       "    </tr>\n",
       "  </thead>\n",
       "  <tbody>\n",
       "    <tr>\n",
       "      <th>0</th>\n",
       "      <td>1</td>\n",
       "      <td>NaN</td>\n",
       "      <td>NaN</td>\n",
       "      <td>Our Deeds are the Reason of this #earthquake M...</td>\n",
       "      <td>1</td>\n",
       "    </tr>\n",
       "    <tr>\n",
       "      <th>1</th>\n",
       "      <td>4</td>\n",
       "      <td>NaN</td>\n",
       "      <td>NaN</td>\n",
       "      <td>Forest fire near La Ronge Sask. Canada</td>\n",
       "      <td>1</td>\n",
       "    </tr>\n",
       "    <tr>\n",
       "      <th>2</th>\n",
       "      <td>5</td>\n",
       "      <td>NaN</td>\n",
       "      <td>NaN</td>\n",
       "      <td>All residents asked to 'shelter in place' are ...</td>\n",
       "      <td>1</td>\n",
       "    </tr>\n",
       "    <tr>\n",
       "      <th>3</th>\n",
       "      <td>6</td>\n",
       "      <td>NaN</td>\n",
       "      <td>NaN</td>\n",
       "      <td>13,000 people receive #wildfires evacuation or...</td>\n",
       "      <td>1</td>\n",
       "    </tr>\n",
       "    <tr>\n",
       "      <th>4</th>\n",
       "      <td>7</td>\n",
       "      <td>NaN</td>\n",
       "      <td>NaN</td>\n",
       "      <td>Just got sent this photo from Ruby #Alaska as ...</td>\n",
       "      <td>1</td>\n",
       "    </tr>\n",
       "  </tbody>\n",
       "</table>\n",
       "</div>"
      ],
      "text/plain": [
       "   id keyword location                                               text  \\\n",
       "0   1     NaN      NaN  Our Deeds are the Reason of this #earthquake M...   \n",
       "1   4     NaN      NaN             Forest fire near La Ronge Sask. Canada   \n",
       "2   5     NaN      NaN  All residents asked to 'shelter in place' are ...   \n",
       "3   6     NaN      NaN  13,000 people receive #wildfires evacuation or...   \n",
       "4   7     NaN      NaN  Just got sent this photo from Ruby #Alaska as ...   \n",
       "\n",
       "   target  \n",
       "0       1  \n",
       "1       1  \n",
       "2       1  \n",
       "3       1  \n",
       "4       1  "
      ]
     },
     "execution_count": 6,
     "metadata": {},
     "output_type": "execute_result"
    }
   ],
   "source": [
    "train = pd.read_csv('./nlp-getting-started/train.csv')\n",
    "test = pd.read_csv('./nlp-getting-started/test.csv')\n",
    "train.head(5)"
   ]
  },
  {
   "cell_type": "code",
   "execution_count": 7,
   "id": "08582517",
   "metadata": {},
   "outputs": [
    {
     "data": {
      "text/html": [
       "<div>\n",
       "<style scoped>\n",
       "    .dataframe tbody tr th:only-of-type {\n",
       "        vertical-align: middle;\n",
       "    }\n",
       "\n",
       "    .dataframe tbody tr th {\n",
       "        vertical-align: top;\n",
       "    }\n",
       "\n",
       "    .dataframe thead th {\n",
       "        text-align: right;\n",
       "    }\n",
       "</style>\n",
       "<table border=\"1\" class=\"dataframe\">\n",
       "  <thead>\n",
       "    <tr style=\"text-align: right;\">\n",
       "      <th></th>\n",
       "      <th>id</th>\n",
       "      <th>keyword</th>\n",
       "      <th>location</th>\n",
       "      <th>text</th>\n",
       "    </tr>\n",
       "  </thead>\n",
       "  <tbody>\n",
       "    <tr>\n",
       "      <th>0</th>\n",
       "      <td>0</td>\n",
       "      <td>NaN</td>\n",
       "      <td>NaN</td>\n",
       "      <td>Just happened a terrible car crash</td>\n",
       "    </tr>\n",
       "    <tr>\n",
       "      <th>1</th>\n",
       "      <td>2</td>\n",
       "      <td>NaN</td>\n",
       "      <td>NaN</td>\n",
       "      <td>Heard about #earthquake is different cities, s...</td>\n",
       "    </tr>\n",
       "    <tr>\n",
       "      <th>2</th>\n",
       "      <td>3</td>\n",
       "      <td>NaN</td>\n",
       "      <td>NaN</td>\n",
       "      <td>there is a forest fire at spot pond, geese are...</td>\n",
       "    </tr>\n",
       "    <tr>\n",
       "      <th>3</th>\n",
       "      <td>9</td>\n",
       "      <td>NaN</td>\n",
       "      <td>NaN</td>\n",
       "      <td>Apocalypse lighting. #Spokane #wildfires</td>\n",
       "    </tr>\n",
       "    <tr>\n",
       "      <th>4</th>\n",
       "      <td>11</td>\n",
       "      <td>NaN</td>\n",
       "      <td>NaN</td>\n",
       "      <td>Typhoon Soudelor kills 28 in China and Taiwan</td>\n",
       "    </tr>\n",
       "  </tbody>\n",
       "</table>\n",
       "</div>"
      ],
      "text/plain": [
       "   id keyword location                                               text\n",
       "0   0     NaN      NaN                 Just happened a terrible car crash\n",
       "1   2     NaN      NaN  Heard about #earthquake is different cities, s...\n",
       "2   3     NaN      NaN  there is a forest fire at spot pond, geese are...\n",
       "3   9     NaN      NaN           Apocalypse lighting. #Spokane #wildfires\n",
       "4  11     NaN      NaN      Typhoon Soudelor kills 28 in China and Taiwan"
      ]
     },
     "execution_count": 7,
     "metadata": {},
     "output_type": "execute_result"
    }
   ],
   "source": [
    "test.head(5)"
   ]
  },
  {
   "cell_type": "code",
   "execution_count": 8,
   "id": "339ec716",
   "metadata": {},
   "outputs": [
    {
     "name": "stdout",
     "output_type": "stream",
     "text": [
      "Train data has 7613 rows and 5 columns\n",
      "Test data has 3263 rows and 4 columns\n"
     ]
    }
   ],
   "source": [
    "print('Train data has {} rows and {} columns'.format(train.shape[0],train.shape[1]))\n",
    "print('Test data has {} rows and {} columns'.format(test.shape[0],test.shape[1]))"
   ]
  },
  {
   "cell_type": "markdown",
   "id": "c3d5aad5",
   "metadata": {},
   "source": [
    "## Exploratory Data Analysis (EDA) "
   ]
  },
  {
   "cell_type": "code",
   "execution_count": 9,
   "id": "840d6f85",
   "metadata": {},
   "outputs": [
    {
     "data": {
      "image/png": "[encoded data removed]",
      "text/plain": [
       "<Figure size 576x432 with 2 Axes>"
      ]
     },
     "metadata": {
      "needs_background": "light"
     },
     "output_type": "display_data"
    }
   ],
   "source": [
    "fig, (ax1,ax2) = plt.subplots(1, 2, figsize=(8,6))\n",
    "train_len=train[train['target']==0]['text'].str.len()\n",
    "ax1.hist(train_len)\n",
    "ax1.set_title('non disaster tweets')\n",
    "train_len = train[train['target']==1]['text'].str.len()\n",
    "ax2.hist(train_len, color='r')\n",
    "ax2.set_title('disaster tweets')\n",
    "fig.suptitle('Number of characters in tweets')\n",
    "plt.show()"
   ]
  },
  {
   "cell_type": "code",
   "execution_count": 10,
   "id": "7d0d6ea5",
   "metadata": {},
   "outputs": [
    {
     "data": {
      "image/png": "[encoded data removed]",
      "text/plain": [
       "<Figure size 720x360 with 2 Axes>"
      ]
     },
     "metadata": {
      "needs_background": "light"
     },
     "output_type": "display_data"
    }
   ],
   "source": [
    "fig, (ax1,ax2)=plt.subplots(1,2,figsize=(10,5))\n",
    "train_len=train[train['target']==0]['text'].str.split().map(lambda x: len(x))\n",
    "ax1.hist(train_len)\n",
    "ax1.set_title('Not disaster tweets')\n",
    "train_len=train[train['target']==1]['text'].str.split().map(lambda x: len(x))\n",
    "ax2.hist(train_len, color='r')\n",
    "ax2.set_title('disaster tweets')\n",
    "fig.suptitle('Words in a tweet')\n",
    "plt.show()"
   ]
  },
  {
   "cell_type": "code",
   "execution_count": 11,
   "id": "c5e57342",
   "metadata": {},
   "outputs": [],
   "source": [
    "def create_corpus(df, target):\n",
    "    corpus=[]\n",
    "    \n",
    "    for x in df[df['target']==target]['text'].str.split():\n",
    "        for i in x:\n",
    "            corpus.append(i)\n",
    "    return corpus"
   ]
  },
  {
   "cell_type": "code",
   "execution_count": 12,
   "id": "2c8eb997",
   "metadata": {},
   "outputs": [],
   "source": [
    "corpus = create_corpus(train, 0)\n",
    "stop=set(stopwords.words('english'))"
   ]
  },
  {
   "cell_type": "code",
   "execution_count": 13,
   "id": "fad07148",
   "metadata": {},
   "outputs": [],
   "source": [
    "counter = Counter(corpus)\n",
    "most = counter.most_common()\n",
    "x=[]\n",
    "y=[]\n",
    "for word,count in most[:40]:\n",
    "    if (word not in stop):\n",
    "        x.append(word)\n",
    "        y.append(count)"
   ]
  },
  {
   "cell_type": "code",
   "execution_count": 14,
   "id": "52e0aebb",
   "metadata": {},
   "outputs": [
    {
     "data": {
      "image/png": "[encoded data removed]",
      "text/plain": [
       "<Figure size 432x288 with 1 Axes>"
      ]
     },
     "metadata": {
      "needs_background": "light"
     },
     "output_type": "display_data"
    }
   ],
   "source": [
    "plt.title(\"Frequent words\")\n",
    "plt.bar(x,y);"
   ]
  },
  {
   "cell_type": "markdown",
   "id": "153a8fa3",
   "metadata": {},
   "source": [
    "### Data Cleaning"
   ]
  },
  {
   "cell_type": "code",
   "execution_count": 15,
   "id": "c047c653",
   "metadata": {},
   "outputs": [
    {
     "data": {
      "text/plain": [
       "(10876, 5)"
      ]
     },
     "execution_count": 15,
     "metadata": {},
     "output_type": "execute_result"
    }
   ],
   "source": [
    "df=pd.concat([train, test])\n",
    "df.shape"
   ]
  },
  {
   "cell_type": "code",
   "execution_count": 16,
   "id": "28795cba",
   "metadata": {},
   "outputs": [],
   "source": [
    "def remove_url(text):\n",
    "    url = re.compile(r'https?://\\S+|www\\.\\S+')\n",
    "    return url.sub(r'', text)"
   ]
  },
  {
   "cell_type": "code",
   "execution_count": 17,
   "id": "c1e6fd8c",
   "metadata": {},
   "outputs": [],
   "source": [
    "df['text'] = df['text'].apply(lambda x : remove_url(x))"
   ]
  },
  {
   "cell_type": "code",
   "execution_count": 18,
   "id": "2be6422c",
   "metadata": {},
   "outputs": [],
   "source": [
    "def remove_html(text):\n",
    "    html=re.compile(r'<.*?>')\n",
    "    return html.sub(r'', text)"
   ]
  },
  {
   "cell_type": "code",
   "execution_count": 19,
   "id": "51b354b3",
   "metadata": {},
   "outputs": [],
   "source": [
    "df['text'] = df['text'].apply(lambda x : remove_html(x))"
   ]
  },
  {
   "cell_type": "code",
   "execution_count": 20,
   "id": "9e95fd27",
   "metadata": {},
   "outputs": [],
   "source": [
    "def remove_punct(text):\n",
    "    table = str.maketrans('', '', string.punctuation)\n",
    "    return text.translate(table)"
   ]
  },
  {
   "cell_type": "code",
   "execution_count": 21,
   "id": "2a9c66aa",
   "metadata": {},
   "outputs": [],
   "source": [
    "df['text'] = df['text'].apply(lambda x : remove_punct(x))"
   ]
  },
  {
   "cell_type": "markdown",
   "id": "3df8c7ba",
   "metadata": {},
   "source": [
    "## Model Architecture"
   ]
  },
  {
   "cell_type": "markdown",
   "id": "8af93177",
   "metadata": {},
   "source": [
    "#### Global Vectors for Word Representation"
   ]
  },
  {
   "cell_type": "code",
   "execution_count": 22,
   "id": "4b14d795",
   "metadata": {},
   "outputs": [],
   "source": [
    "def create_corpus_2(df):\n",
    "    corpus=[]\n",
    "    for tweet in tqdm(df['text']):\n",
    "        words=[word.lower() for word in word_tokenize(tweet) if((word.isalpha()==1) & (word not in stop))]\n",
    "        corpus.append(words)\n",
    "    return corpus"
   ]
  },
  {
   "cell_type": "code",
   "execution_count": 23,
   "id": "62c8101c",
   "metadata": {},
   "outputs": [
    {
     "name": "stderr",
     "output_type": "stream",
     "text": [
      "100%|██████████████████████████████████████████████████████████████████████████| 10876/10876 [00:01<00:00, 9940.10it/s]\n"
     ]
    }
   ],
   "source": [
    "corpus = create_corpus_2(df)"
   ]
  },
  {
   "cell_type": "code",
   "execution_count": 24,
   "id": "d53d2b0c",
   "metadata": {},
   "outputs": [],
   "source": [
    "embedding_dict={}\n",
    "with open('glove_twitter_27B/glove.twitter.27B.200d.txt', 'r', encoding=\"utf8\") as f:\n",
    "    for line in f:\n",
    "        values = line.split()\n",
    "        word = values[0]\n",
    "        vectors = np.asarray(values[1:], 'float32')\n",
    "        embedding_dict[word] = vectors\n",
    "f.close()"
   ]
  },
  {
   "cell_type": "code",
   "execution_count": 25,
   "id": "d40d5e81",
   "metadata": {},
   "outputs": [],
   "source": [
    "MAX_LEN = 50\n",
    "tokenizer_obj = Tokenizer()"
   ]
  },
  {
   "cell_type": "code",
   "execution_count": 26,
   "id": "2f9072d2",
   "metadata": {},
   "outputs": [],
   "source": [
    "tokenizer_obj.fit_on_texts(corpus)\n",
    "sequences = tokenizer_obj.texts_to_sequences(corpus)\n",
    "train_pad = pad_sequences(sequences, maxlen=MAX_LEN,truncating='post', padding='post')"
   ]
  },
  {
   "cell_type": "code",
   "execution_count": 27,
   "id": "bc17f81a",
   "metadata": {},
   "outputs": [
    {
     "name": "stdout",
     "output_type": "stream",
     "text": [
      "Number of unique words: 20342\n"
     ]
    }
   ],
   "source": [
    "word_index = tokenizer_obj.word_index\n",
    "print('Number of unique words:', len(word_index))"
   ]
  },
  {
   "cell_type": "code",
   "execution_count": 28,
   "id": "65637135",
   "metadata": {},
   "outputs": [
    {
     "name": "stderr",
     "output_type": "stream",
     "text": [
      "100%|████████████████████████████████████████████████████████████████████████| 20342/20342 [00:00<00:00, 535916.16it/s]\n"
     ]
    }
   ],
   "source": [
    "num_words = len(word_index)+1\n",
    "embedding_matrix = np.zeros((num_words, 200))\n",
    "\n",
    "for word,i in tqdm(word_index.items()):\n",
    "    if i > num_words:\n",
    "        continue  \n",
    "    emb_vec = embedding_dict.get(word)\n",
    "    if emb_vec is not None:\n",
    "        embedding_matrix[i] = emb_vec"
   ]
  },
  {
   "cell_type": "markdown",
   "id": "aa467300",
   "metadata": {},
   "source": [
    "#### LSTM model"
   ]
  },
  {
   "cell_type": "code",
   "execution_count": 50,
   "id": "c29c2fab",
   "metadata": {},
   "outputs": [],
   "source": [
    "model = Sequential()\n",
    "\n",
    "embedding = Embedding(num_words, 200, \n",
    "                      embeddings_initializer=Constant(embedding_matrix), \n",
    "                      input_length=MAX_LEN,\n",
    "                      trainable=False\n",
    "                     )\n",
    "\n",
    "model.add(embedding)\n",
    "model.add(SpatialDropout1D(0.2))\n",
    "\n",
    "model.add(Bidirectional(LSTM(64, return_sequences=True)))\n",
    "model.add(Bidirectional(LSTM(32, dropout=0.2, recurrent_dropout=0)))\n",
    "\n",
    "model.add(Dense(1, activation='sigmoid'))\n",
    "\n",
    "\n",
    "model.compile(loss='binary_crossentropy', optimizer='RMSprop', metrics=['accuracy'])"
   ]
  },
  {
   "cell_type": "code",
   "execution_count": 51,
   "id": "c09d7e9c",
   "metadata": {},
   "outputs": [
    {
     "name": "stdout",
     "output_type": "stream",
     "text": [
      "Model: \"sequential_4\"\n",
      "_________________________________________________________________\n",
      "Layer (type)                 Output Shape              Param #   \n",
      "=================================================================\n",
      "embedding_4 (Embedding)      (None, 50, 200)           4068600   \n",
      "_________________________________________________________________\n",
      "spatial_dropout1d_1 (Spatial (None, 50, 200)           0         \n",
      "_________________________________________________________________\n",
      "bidirectional_6 (Bidirection (None, 50, 128)           135680    \n",
      "_________________________________________________________________\n",
      "bidirectional_7 (Bidirection (None, 64)                41216     \n",
      "_________________________________________________________________\n",
      "dense_3 (Dense)              (None, 1)                 65        \n",
      "=================================================================\n",
      "Total params: 4,245,561\n",
      "Trainable params: 176,961\n",
      "Non-trainable params: 4,068,600\n",
      "_________________________________________________________________\n"
     ]
    }
   ],
   "source": [
    "model.summary()"
   ]
  },
  {
   "cell_type": "code",
   "execution_count": 52,
   "id": "7235028f",
   "metadata": {},
   "outputs": [],
   "source": [
    "train_data = train_pad[:train.shape[0]]\n",
    "test_data = train_pad[train.shape[0]:]"
   ]
  },
  {
   "cell_type": "code",
   "execution_count": 53,
   "id": "00734e86",
   "metadata": {},
   "outputs": [
    {
     "data": {
      "text/plain": [
       "(7613, 50)"
      ]
     },
     "execution_count": 53,
     "metadata": {},
     "output_type": "execute_result"
    }
   ],
   "source": [
    "train_data.shape"
   ]
  },
  {
   "cell_type": "code",
   "execution_count": 54,
   "id": "c6898502",
   "metadata": {},
   "outputs": [
    {
     "data": {
      "text/plain": [
       "(3263, 50)"
      ]
     },
     "execution_count": 54,
     "metadata": {},
     "output_type": "execute_result"
    }
   ],
   "source": [
    "test_data.shape"
   ]
  },
  {
   "cell_type": "code",
   "execution_count": 55,
   "id": "7505b570",
   "metadata": {},
   "outputs": [],
   "source": [
    "X_train, X_test, y_train, y_test = train_test_split(train_data, train['target'].values, test_size=0.1)"
   ]
  },
  {
   "cell_type": "code",
   "execution_count": 56,
   "id": "2caa774b",
   "metadata": {
    "scrolled": true
   },
   "outputs": [
    {
     "name": "stdout",
     "output_type": "stream",
     "text": [
      "Epoch 1/30\n",
      "857/857 [==============================] - 8s 10ms/step - loss: 0.4728 - accuracy: 0.7822 - val_loss: 0.4461 - val_accuracy: 0.7992\n",
      "Epoch 2/30\n",
      "857/857 [==============================] - 8s 9ms/step - loss: 0.4228 - accuracy: 0.8111 - val_loss: 0.4605 - val_accuracy: 0.8084\n",
      "Epoch 3/30\n",
      "857/857 [==============================] - 8s 9ms/step - loss: 0.3998 - accuracy: 0.8278 - val_loss: 0.4799 - val_accuracy: 0.8110\n",
      "Epoch 4/30\n",
      "857/857 [==============================] - 8s 9ms/step - loss: 0.3715 - accuracy: 0.8443 - val_loss: 0.4574 - val_accuracy: 0.8097\n",
      "Epoch 5/30\n",
      "857/857 [==============================] - 8s 9ms/step - loss: 0.3534 - accuracy: 0.8497 - val_loss: 0.4786 - val_accuracy: 0.8005\n",
      "Epoch 6/30\n",
      "857/857 [==============================] - 8s 9ms/step - loss: 0.3338 - accuracy: 0.8622 - val_loss: 0.4767 - val_accuracy: 0.8045\n",
      "Epoch 7/30\n",
      "857/857 [==============================] - 7s 9ms/step - loss: 0.3061 - accuracy: 0.8770 - val_loss: 0.4889 - val_accuracy: 0.8058\n",
      "Epoch 8/30\n",
      "857/857 [==============================] - 7s 9ms/step - loss: 0.2809 - accuracy: 0.8880 - val_loss: 0.5092 - val_accuracy: 0.8071\n",
      "Epoch 9/30\n",
      "857/857 [==============================] - 8s 9ms/step - loss: 0.2566 - accuracy: 0.8962 - val_loss: 0.5285 - val_accuracy: 0.8045\n",
      "Epoch 10/30\n",
      "857/857 [==============================] - 8s 9ms/step - loss: 0.2317 - accuracy: 0.9069 - val_loss: 0.6008 - val_accuracy: 0.7953\n",
      "Epoch 11/30\n",
      "857/857 [==============================] - 7s 9ms/step - loss: 0.2115 - accuracy: 0.9167 - val_loss: 0.6851 - val_accuracy: 0.7480\n",
      "Epoch 12/30\n",
      "857/857 [==============================] - 7s 9ms/step - loss: 0.1938 - accuracy: 0.9245 - val_loss: 0.6026 - val_accuracy: 0.7940\n",
      "Epoch 13/30\n",
      "857/857 [==============================] - 7s 9ms/step - loss: 0.1793 - accuracy: 0.9294 - val_loss: 0.6634 - val_accuracy: 0.7861\n",
      "Epoch 14/30\n",
      "857/857 [==============================] - 7s 8ms/step - loss: 0.1605 - accuracy: 0.9361 - val_loss: 0.7237 - val_accuracy: 0.7782\n",
      "Epoch 15/30\n",
      "857/857 [==============================] - 8s 9ms/step - loss: 0.1514 - accuracy: 0.9416 - val_loss: 0.7307 - val_accuracy: 0.7795\n",
      "Epoch 16/30\n",
      "857/857 [==============================] - 7s 9ms/step - loss: 0.1464 - accuracy: 0.9431 - val_loss: 0.7876 - val_accuracy: 0.7808\n",
      "Epoch 17/30\n",
      "857/857 [==============================] - 7s 9ms/step - loss: 0.1263 - accuracy: 0.9521 - val_loss: 0.8765 - val_accuracy: 0.7848\n",
      "Epoch 18/30\n",
      "857/857 [==============================] - 7s 9ms/step - loss: 0.1230 - accuracy: 0.9539 - val_loss: 0.7936 - val_accuracy: 0.7992\n",
      "Epoch 19/30\n",
      "857/857 [==============================] - 7s 9ms/step - loss: 0.1194 - accuracy: 0.9529 - val_loss: 0.8868 - val_accuracy: 0.7835\n",
      "Epoch 20/30\n",
      "857/857 [==============================] - 7s 9ms/step - loss: 0.1111 - accuracy: 0.9583 - val_loss: 0.9046 - val_accuracy: 0.7795\n",
      "Epoch 21/30\n",
      "857/857 [==============================] - 7s 9ms/step - loss: 0.1058 - accuracy: 0.9584 - val_loss: 0.9179 - val_accuracy: 0.7913\n",
      "Epoch 22/30\n",
      "857/857 [==============================] - 7s 9ms/step - loss: 0.0990 - accuracy: 0.9625 - val_loss: 0.9832 - val_accuracy: 0.7467\n",
      "Epoch 23/30\n",
      "857/857 [==============================] - 7s 9ms/step - loss: 0.0912 - accuracy: 0.9639 - val_loss: 1.0284 - val_accuracy: 0.7743\n",
      "Epoch 24/30\n",
      "857/857 [==============================] - 8s 9ms/step - loss: 0.0922 - accuracy: 0.9647 - val_loss: 0.9831 - val_accuracy: 0.7822\n",
      "Epoch 25/30\n",
      "857/857 [==============================] - 7s 9ms/step - loss: 0.0942 - accuracy: 0.9619 - val_loss: 0.8806 - val_accuracy: 0.7848\n",
      "Epoch 26/30\n",
      "857/857 [==============================] - 7s 9ms/step - loss: 0.0917 - accuracy: 0.9661 - val_loss: 0.8904 - val_accuracy: 0.7861\n",
      "Epoch 27/30\n",
      "857/857 [==============================] - 7s 9ms/step - loss: 0.0832 - accuracy: 0.9679 - val_loss: 1.0709 - val_accuracy: 0.7638\n",
      "Epoch 28/30\n",
      "857/857 [==============================] - 7s 9ms/step - loss: 0.0824 - accuracy: 0.9689 - val_loss: 0.9039 - val_accuracy: 0.7900\n",
      "Epoch 29/30\n",
      "857/857 [==============================] - 7s 8ms/step - loss: 0.0840 - accuracy: 0.9679 - val_loss: 0.9555 - val_accuracy: 0.7900\n",
      "Epoch 30/30\n",
      "857/857 [==============================] - 7s 9ms/step - loss: 0.0742 - accuracy: 0.9714 - val_loss: 1.1481 - val_accuracy: 0.7822\n"
     ]
    }
   ],
   "source": [
    "history = model.fit(X_train, y_train, \n",
    "                    validation_data=(X_test,y_test),\n",
    "                    batch_size=8, \n",
    "                    epochs=30)"
   ]
  },
  {
   "cell_type": "markdown",
   "id": "6bbfa083",
   "metadata": {},
   "source": [
    "## Results and Analysis "
   ]
  },
  {
   "cell_type": "code",
   "execution_count": 57,
   "id": "72699765",
   "metadata": {},
   "outputs": [],
   "source": [
    "def plots(history):\n",
    "\n",
    "    acc = history.history['accuracy']\n",
    "    val_acc = history.history['val_accuracy']\n",
    "    loss = history.history['loss']\n",
    "    val_loss = history.history['val_loss']\n",
    "\n",
    "    epochs = range(len(acc))\n",
    "\n",
    "    plt.plot(epochs, acc, 'bo' ,label = 'training accuracy')\n",
    "    plt.plot(epochs, val_acc, 'b' , label= 'validation accuracy')\n",
    "    plt.title('Training and Validation accuracy')\n",
    "    plt.legend()\n",
    "\n",
    "    plt.figure()\n",
    "\n",
    "    plt.plot(epochs, loss, 'bo' ,label = 'training loss')\n",
    "    plt.plot(epochs, val_loss, 'b' , label= 'validation loss')\n",
    "    plt.title('Training and Validation loss')\n",
    "    plt.legend()\n",
    "\n",
    "    plt.show()"
   ]
  },
  {
   "cell_type": "code",
   "execution_count": 58,
   "id": "b3b2fe4b",
   "metadata": {},
   "outputs": [
    {
     "data": {
      "image/png": "[encoded data removed]",
      "text/plain": [
       "<Figure size 432x288 with 1 Axes>"
      ]
     },
     "metadata": {
      "needs_background": "light"
     },
     "output_type": "display_data"
    },
    {
     "data": {
      "image/png": "[encoded data removed]",
      "text/plain": [
       "<Figure size 432x288 with 1 Axes>"
      ]
     },
     "metadata": {
      "needs_background": "light"
     },
     "output_type": "display_data"
    }
   ],
   "source": [
    "plots(history)"
   ]
  },
  {
   "cell_type": "code",
   "execution_count": 59,
   "id": "cd9d5932",
   "metadata": {},
   "outputs": [],
   "source": [
    "sample_sub = pd.read_csv('./nlp-getting-started/sample_submission.csv')"
   ]
  },
  {
   "cell_type": "code",
   "execution_count": 60,
   "id": "09876b47",
   "metadata": {},
   "outputs": [],
   "source": [
    "y_pre = model.predict(test_data)\n",
    "y_pre = np.round(y_pre).astype(int).reshape(3263)\n",
    "sub = pd.DataFrame({'id':sample_sub['id'].values.tolist(), 'target':y_pre})\n",
    "sub.to_csv('submission.csv', index=False)"
   ]
  },
  {
   "cell_type": "markdown",
   "id": "3b726f9e",
   "metadata": {},
   "source": [
    "<img src=\"files/my_result_1.png\">"
   ]
  },
  {
   "cell_type": "markdown",
   "id": "3634a3a0",
   "metadata": {},
   "source": [
    "## Conclusion"
   ]
  },
  {
   "cell_type": "markdown",
   "id": "647409d6",
   "metadata": {},
   "source": [
    "My final score was 0.79. As we can observe from the loss graph, overfitting happened here. So it is considered that using more robust model or adding regulations could improve the result. "
   ]
  },
  {
   "cell_type": "code",
   "execution_count": null,
   "id": "19f3176c",
   "metadata": {},
   "outputs": [],
   "source": []
  }
 ],
 "metadata": {
  "kernelspec": {
   "display_name": "Python 3 (ipykernel)",
   "language": "python",
   "name": "python3"
  },
  "language_info": {
   "codemirror_mode": {
    "name": "ipython",
    "version": 3
   },
   "file_extension": ".py",
   "mimetype": "text/x-python",
   "name": "python",
   "nbconvert_exporter": "python",
   "pygments_lexer": "ipython3",
   "version": "3.8.13"
  }
 },
 "nbformat": 4,
 "nbformat_minor": 5
}
